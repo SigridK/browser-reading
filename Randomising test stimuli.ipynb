{
 "cells": [
  {
   "cell_type": "code",
   "execution_count": 30,
   "metadata": {
    "collapsed": true
   },
   "outputs": [],
   "source": [
    "from __future__ import division\n",
    "import numpy as np\n",
    "import codecs\n",
    "import copy\n",
    "\n"
   ]
  },
  {
   "cell_type": "code",
   "execution_count": 28,
   "metadata": {
    "collapsed": false
   },
   "outputs": [],
   "source": [
    "testfile = codecs.open('stimuli_Maria/allteststimulisorted.txt', 'r', 'utf-8').read().split('\\n')\n",
    "testlist = [item.split('\\t') for item in testfile] #structure is [[name1, text1], [name2, text2] etc.]\n",
    "testlist = [[pair[0][5:], pair[1]] for pair in testlist ] #removing first 5 characters in the name - we don't need it"
   ]
  },
  {
   "cell_type": "code",
   "execution_count": 46,
   "metadata": {
    "collapsed": false
   },
   "outputs": [
    {
     "name": "stdout",
     "output_type": "stream",
     "text": [
      "HTMLstimuli/0test.html\n",
      "HTMLstimuli/1test.html\n",
      "HTMLstimuli/2test.html\n",
      "HTMLstimuli/3test.html\n",
      "HTMLstimuli/4test.html\n",
      "HTMLstimuli/5test.html\n",
      "HTMLstimuli/6test.html\n",
      "HTMLstimuli/7test.html\n",
      "HTMLstimuli/8test.html\n",
      "HTMLstimuli/9test.html\n",
      "HTMLstimuli/10test.html\n",
      "HTMLstimuli/11test.html\n",
      "HTMLstimuli/12test.html\n",
      "HTMLstimuli/13test.html\n",
      "HTMLstimuli/14test.html\n",
      "HTMLstimuli/15test.html\n",
      "HTMLstimuli/16test.html\n",
      "HTMLstimuli/17test.html\n",
      "HTMLstimuli/18test.html\n",
      "HTMLstimuli/19test.html\n",
      "HTMLstimuli/20test.html\n",
      "HTMLstimuli/21test.html\n",
      "HTMLstimuli/22test.html\n",
      "HTMLstimuli/23test.html\n",
      "HTMLstimuli/24test.html\n",
      "HTMLstimuli/25test.html\n",
      "HTMLstimuli/26test.html\n",
      "HTMLstimuli/27test.html\n",
      "HTMLstimuli/28test.html\n",
      "HTMLstimuli/29test.html\n"
     ]
    }
   ],
   "source": [
    "for i in xrange(30):# number of shuffled versions\n",
    "    np.random.seed(i)\n",
    "    writefile = codecs.open('stimuli_Maria/'+str(i)+'teststimuli.txt', 'w', 'utf-8')\n",
    "    testlistcopy = copy.deepcopy(testlist)\n",
    "    np.random.shuffle(testlistcopy)\n",
    "    for pair in testlistcopy:\n",
    "        writefile.write(str(pair[0])+'\\t'+str(pair[1])+'\\n')\n",
    "    writefile.close()\n",
    "    !python html_generator.py style.css test {'stimuli_Maria/'+str(i)+'teststimuli.txt'} HTMLstimuli/{i}"
   ]
  },
  {
   "cell_type": "code",
   "execution_count": 13,
   "metadata": {
    "collapsed": false
   },
   "outputs": [],
   "source": []
  },
  {
   "cell_type": "code",
   "execution_count": null,
   "metadata": {
    "collapsed": false
   },
   "outputs": [],
   "source": []
  },
  {
   "cell_type": "code",
   "execution_count": null,
   "metadata": {
    "collapsed": true
   },
   "outputs": [],
   "source": []
  }
 ],
 "metadata": {
  "kernelspec": {
   "display_name": "Python 2",
   "language": "python",
   "name": "python2"
  },
  "language_info": {
   "codemirror_mode": {
    "name": "ipython",
    "version": 2
   },
   "file_extension": ".py",
   "mimetype": "text/x-python",
   "name": "python",
   "nbconvert_exporter": "python",
   "pygments_lexer": "ipython2",
   "version": "2.7.3"
  }
 },
 "nbformat": 4,
 "nbformat_minor": 0
}
