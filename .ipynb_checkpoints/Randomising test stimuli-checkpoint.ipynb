{
 "cells": [
  {
   "cell_type": "code",
   "execution_count": 30,
   "metadata": {
    "collapsed": true
   },
   "outputs": [],
   "source": [
    "from __future__ import division\n",
    "import numpy as np\n",
    "import codecs\n",
    "import copy\n",
    "\n"
   ]
  },
  {
   "cell_type": "code",
   "execution_count": 28,
   "metadata": {
    "collapsed": false
   },
   "outputs": [],
   "source": [
    "testfile = codecs.open('stimuli_Maria/allteststimulisorted.txt', 'r', 'utf-8').read().split('\\n')\n",
    "testlist = [item.split('\\t') for item in testfile] #structure is [[name1, text1], [name2, text2] etc.]\n",
    "testlist = [[pair[0][5:], pair[1]] for pair in testlist ] #removing first 5 characters in the name - we don't need it"
   ]
  },
  {
   "cell_type": "code",
   "execution_count": 45,
   "metadata": {
    "collapsed": false
   },
   "outputs": [
    {
     "name": "stdout",
     "output_type": "stream",
     "text": [
      "/bin/sh: -c: line 0: syntax error near unexpected token `('\n",
      "/bin/sh: -c: line 0: `python html_generator.py style.css test stimuli_Maria/{str(i)+teststimuli.txt} HTMLstimuli/{i}'\n",
      "/bin/sh: -c: line 0: syntax error near unexpected token `('\n",
      "/bin/sh: -c: line 0: `python html_generator.py style.css test stimuli_Maria/{str(i)+teststimuli.txt} HTMLstimuli/{i}'\n",
      "/bin/sh: -c: line 0: syntax error near unexpected token `('\n",
      "/bin/sh: -c: line 0: `python html_generator.py style.css test stimuli_Maria/{str(i)+teststimuli.txt} HTMLstimuli/{i}'\n",
      "/bin/sh: -c: line 0: syntax error near unexpected token `('\n",
      "/bin/sh: -c: line 0: `python html_generator.py style.css test stimuli_Maria/{str(i)+teststimuli.txt} HTMLstimuli/{i}'\n",
      "/bin/sh: -c: line 0: syntax error near unexpected token `('\n",
      "/bin/sh: -c: line 0: `python html_generator.py style.css test stimuli_Maria/{str(i)+teststimuli.txt} HTMLstimuli/{i}'\n",
      "/bin/sh: -c: line 0: syntax error near unexpected token `('\n",
      "/bin/sh: -c: line 0: `python html_generator.py style.css test stimuli_Maria/{str(i)+teststimuli.txt} HTMLstimuli/{i}'\n",
      "/bin/sh: -c: line 0: syntax error near unexpected token `('\n",
      "/bin/sh: -c: line 0: `python html_generator.py style.css test stimuli_Maria/{str(i)+teststimuli.txt} HTMLstimuli/{i}'\n",
      "/bin/sh: -c: line 0: syntax error near unexpected token `('\n",
      "/bin/sh: -c: line 0: `python html_generator.py style.css test stimuli_Maria/{str(i)+teststimuli.txt} HTMLstimuli/{i}'\n",
      "/bin/sh: -c: line 0: syntax error near unexpected token `('\n",
      "/bin/sh: -c: line 0: `python html_generator.py style.css test stimuli_Maria/{str(i)+teststimuli.txt} HTMLstimuli/{i}'\n",
      "/bin/sh: -c: line 0: syntax error near unexpected token `('\n",
      "/bin/sh: -c: line 0: `python html_generator.py style.css test stimuli_Maria/{str(i)+teststimuli.txt} HTMLstimuli/{i}'\n",
      "/bin/sh: -c: line 0: syntax error near unexpected token `('\n",
      "/bin/sh: -c: line 0: `python html_generator.py style.css test stimuli_Maria/{str(i)+teststimuli.txt} HTMLstimuli/{i}'\n",
      "/bin/sh: -c: line 0: syntax error near unexpected token `('\n",
      "/bin/sh: -c: line 0: `python html_generator.py style.css test stimuli_Maria/{str(i)+teststimuli.txt} HTMLstimuli/{i}'\n",
      "/bin/sh: -c: line 0: syntax error near unexpected token `('\n",
      "/bin/sh: -c: line 0: `python html_generator.py style.css test stimuli_Maria/{str(i)+teststimuli.txt} HTMLstimuli/{i}'\n",
      "/bin/sh: -c: line 0: syntax error near unexpected token `('\n",
      "/bin/sh: -c: line 0: `python html_generator.py style.css test stimuli_Maria/{str(i)+teststimuli.txt} HTMLstimuli/{i}'\n",
      "/bin/sh: -c: line 0: syntax error near unexpected token `('\n",
      "/bin/sh: -c: line 0: `python html_generator.py style.css test stimuli_Maria/{str(i)+teststimuli.txt} HTMLstimuli/{i}'\n",
      "/bin/sh: -c: line 0: syntax error near unexpected token `('\n",
      "/bin/sh: -c: line 0: `python html_generator.py style.css test stimuli_Maria/{str(i)+teststimuli.txt} HTMLstimuli/{i}'\n",
      "/bin/sh: -c: line 0: syntax error near unexpected token `('\n",
      "/bin/sh: -c: line 0: `python html_generator.py style.css test stimuli_Maria/{str(i)+teststimuli.txt} HTMLstimuli/{i}'\n",
      "/bin/sh: -c: line 0: syntax error near unexpected token `('\n",
      "/bin/sh: -c: line 0: `python html_generator.py style.css test stimuli_Maria/{str(i)+teststimuli.txt} HTMLstimuli/{i}'\n",
      "/bin/sh: -c: line 0: syntax error near unexpected token `('\n",
      "/bin/sh: -c: line 0: `python html_generator.py style.css test stimuli_Maria/{str(i)+teststimuli.txt} HTMLstimuli/{i}'\n",
      "/bin/sh: -c: line 0: syntax error near unexpected token `('\n",
      "/bin/sh: -c: line 0: `python html_generator.py style.css test stimuli_Maria/{str(i)+teststimuli.txt} HTMLstimuli/{i}'\n",
      "/bin/sh: -c: line 0: syntax error near unexpected token `('\n",
      "/bin/sh: -c: line 0: `python html_generator.py style.css test stimuli_Maria/{str(i)+teststimuli.txt} HTMLstimuli/{i}'\n",
      "/bin/sh: -c: line 0: syntax error near unexpected token `('\n",
      "/bin/sh: -c: line 0: `python html_generator.py style.css test stimuli_Maria/{str(i)+teststimuli.txt} HTMLstimuli/{i}'\n",
      "/bin/sh: -c: line 0: syntax error near unexpected token `('\n",
      "/bin/sh: -c: line 0: `python html_generator.py style.css test stimuli_Maria/{str(i)+teststimuli.txt} HTMLstimuli/{i}'\n",
      "/bin/sh: -c: line 0: syntax error near unexpected token `('\n",
      "/bin/sh: -c: line 0: `python html_generator.py style.css test stimuli_Maria/{str(i)+teststimuli.txt} HTMLstimuli/{i}'\n",
      "/bin/sh: -c: line 0: syntax error near unexpected token `('\n",
      "/bin/sh: -c: line 0: `python html_generator.py style.css test stimuli_Maria/{str(i)+teststimuli.txt} HTMLstimuli/{i}'\n",
      "/bin/sh: -c: line 0: syntax error near unexpected token `('\n",
      "/bin/sh: -c: line 0: `python html_generator.py style.css test stimuli_Maria/{str(i)+teststimuli.txt} HTMLstimuli/{i}'\n",
      "/bin/sh: -c: line 0: syntax error near unexpected token `('\n",
      "/bin/sh: -c: line 0: `python html_generator.py style.css test stimuli_Maria/{str(i)+teststimuli.txt} HTMLstimuli/{i}'\n",
      "/bin/sh: -c: line 0: syntax error near unexpected token `('\n",
      "/bin/sh: -c: line 0: `python html_generator.py style.css test stimuli_Maria/{str(i)+teststimuli.txt} HTMLstimuli/{i}'\n",
      "/bin/sh: -c: line 0: syntax error near unexpected token `('\n",
      "/bin/sh: -c: line 0: `python html_generator.py style.css test stimuli_Maria/{str(i)+teststimuli.txt} HTMLstimuli/{i}'\n",
      "/bin/sh: -c: line 0: syntax error near unexpected token `('\n",
      "/bin/sh: -c: line 0: `python html_generator.py style.css test stimuli_Maria/{str(i)+teststimuli.txt} HTMLstimuli/{i}'\n"
     ]
    }
   ],
   "source": [
    "for i in xrange(30):# number of shuffled versions\n",
    "    np.random.seed(i)\n",
    "    writefile = codecs.open('stimuli_Maria/'+str(i)+'teststimuli.txt', 'w', 'utf-8')\n",
    "    testlistcopy = copy.deepcopy(testlist)\n",
    "    np.random.shuffle(testlistcopy)\n",
    "    for pair in testlistcopy:\n",
    "        writefile.write(str(pair[0])+'\\t'+str(pair[1])+'\\n')\n",
    "    writefile.close()\n",
    "    !python html_generator.py style.css test {'stimuli_Maria/'+str(i)+'teststimuli.txt'} HTMLstimuli/{i}"
   ]
  },
  {
   "cell_type": "code",
   "execution_count": 13,
   "metadata": {
    "collapsed": false
   },
   "outputs": [],
   "source": []
  },
  {
   "cell_type": "code",
   "execution_count": null,
   "metadata": {
    "collapsed": false
   },
   "outputs": [],
   "source": []
  },
  {
   "cell_type": "code",
   "execution_count": null,
   "metadata": {
    "collapsed": true
   },
   "outputs": [],
   "source": []
  }
 ],
 "metadata": {
  "kernelspec": {
   "display_name": "Python 2",
   "language": "python",
   "name": "python2"
  },
  "language_info": {
   "codemirror_mode": {
    "name": "ipython",
    "version": 2
   },
   "file_extension": ".py",
   "mimetype": "text/x-python",
   "name": "python",
   "nbconvert_exporter": "python",
   "pygments_lexer": "ipython2",
   "version": "2.7.3"
  }
 },
 "nbformat": 4,
 "nbformat_minor": 0
}
