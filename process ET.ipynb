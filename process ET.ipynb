{
 "cells": [
  {
   "cell_type": "code",
   "execution_count": 44,
   "metadata": {
    "collapsed": true
   },
   "outputs": [],
   "source": [
    "from __future__ import division\n",
    "import numpy as np\n",
    "import pandas as pd\n",
    "import codecs\n",
    "import json\n",
    "import nltk"
   ]
  },
  {
   "cell_type": "code",
   "execution_count": 50,
   "metadata": {
    "collapsed": false
   },
   "outputs": [
    {
     "data": {
      "text/plain": [
       "[u'0114_MAI0813',\n",
       " u'Electricity Market Design Conference March 25-26, 2002, Atlanta, Georgia']"
      ]
     },
     "execution_count": 50,
     "metadata": {},
     "output_type": "execute_result"
    }
   ],
   "source": [
    "tokenfile = codecs.open('stimuli_Maria/alldemostimulisorted.txt', 'r', 'utf-8').read().split('\\n')\n",
    "tokenlist = [li.split('\\t') for li in tokenfile]\n",
    "\n",
    "sent = tokenlist[5]\n",
    "sent"
   ]
  },
  {
   "cell_type": "code",
   "execution_count": 36,
   "metadata": {
    "collapsed": false
   },
   "outputs": [],
   "source": [
    "#flaskfile = open('Pagerecordings/2015-12-10_14-21-05test').read()\n",
    "with open('Pagerecordings/2015-12-10_14-29-06test') as data_file:    \n",
    "    data = json.load(data_file)"
   ]
  },
  {
   "cell_type": "code",
   "execution_count": 52,
   "metadata": {
    "collapsed": false
   },
   "outputs": [
    {
     "name": "stdout",
     "output_type": "stream",
     "text": [
      "Electricity\n",
      "Market\n",
      "Design\n",
      "Conference\n",
      "March\n",
      "25-26\n",
      ",\n",
      "2002\n",
      ",\n",
      "Atlanta\n",
      ",\n",
      "Georgia\n"
     ]
    }
   ],
   "source": [
    "#{Sentid_1 {starttime: , endtime: , tokens: [{token1word: We, top_coor:, bottom_coor: , left_coor: , right_coor: ] }}\n",
    "#Sentid_2 (etc..)\n",
    "#}\n",
    "\n",
    "senteces = {}\n",
    "sentok = nltk.tokenize.word_tokenize(sent[1]) #get tokenization from LearningTreebanks_gr.csv\n",
    "for tok in sentok:\n",
    "    #assert that sentID matches\n",
    "    #top =\n",
    "    #bottom = \n",
    "    #localize first and last letter, get coordinates of those as well as top bottom\n",
    "    #tok length = \n",
    "    \n",
    "    #store it \n",
    "    \n",
    "    \n",
    "        "
   ]
  },
  {
   "cell_type": "code",
   "execution_count": 64,
   "metadata": {
    "collapsed": false
   },
   "outputs": [
    {
     "data": {
      "text/plain": [
       "u'{\"boxes\":[{\"text\":\"E\",\"id\":\"0000-00\",\"bottom\":326.375,\"height\":26.375,\"left\":100,\"right\":111.484375,\"top\":300,\"width\":11.484375},{\"text\":\"l\",\"id\":\"0000-01\",\"bottom\":326.375,\"height\":26.375,\"left\":111.484375,\"right\":115.0625,\"top\":300,\"width\":3.578125},{\"text\":\"e\",\"id\":\"0000-02\",\"bottom\":326.375,\"height\":26.375,\"left\":115.0625,\"right\":122.8125,\"top\":300,\"width\":7.75},{\"text\":\"c\",\"id\":\"0000-03\",\"bottom\":326.375,\"height\":26.375,\"left\":122.8125,\"right\":129.59375,\"top\":300,\"width\":6.78125},{\"text\":\"t\",\"id\":\"0000-04\",\"bottom\":326.375,\"height\":26.375,\"left\":129.59375,\"right\":134.71875,\"top\":300,\"width\":5.125},{\"text\":\"r\",\"id\":\"0000-05\",\"bottom\":326.375,\"height\":26.375,\"left\":134.71875,\"right\":140.28125,\"top\":300,\"width\":5.5625},{\"text\":\"i\",\"id\":\"0000-06\",\"bottom\":326.375,\"height\":26.375,\"left\":140.28125,\"right\":143.859375,\"top\":300,\"width\":3.578125},{\"text\":\"c\",\"id\":\"0000-07\",\"bottom\":326.375,\"height\":26.375,\"left\":143.859375,\"right\":150.640625,\"top\":300,\"width\":6.78125},{\"text\":\"i\",\"id\":\"0000-08\",\"bottom\":326.375,\"height\":26.375,\"left\":150.640625,\"right\":154.21875,\"top\":300,\"width\":3.578125},{\"text\":\"t\",\"id\":\"0000-09\",\"bottom\":326.375,\"height\":26.375,\"left\":154.21875,\"right\":159.34375,\"top\":300,\"width\":5.125},{\"text\":\"y\",\"id\":\"0000-10\",\"bottom\":326.375,\"height\":26.375,\"left\":159.34375,\"right\":170.296875,\"top\":300,\"width\":10.953125},{\"text\":\"M\",\"id\":\"0001-00\",\"bottom\":326.375,\"height\":26.375,\"left\":170.296875,\"right\":184.515625,\"top\":300,\"width\":14.21875},{\"text\":\"a\",\"id\":\"0001-01\",\"bottom\":326.375,\"height\":26.375,\"left\":184.515625,\"right\":192.328125,\"top\":300,\"width\":7.8125},{\"text\":\"r\",\"id\":\"0001-02\",\"bottom\":326.375,\"height\":26.375,\"left\":192.328125,\"right\":197.890625,\"top\":300,\"width\":5.5625},{\"text\":\"k\",\"id\":\"0001-03\",\"bottom\":326.375,\"height\":26.375,\"left\":197.890625,\"right\":205.59375,\"top\":300,\"width\":7.703125},{\"text\":\"e\",\"id\":\"0001-04\",\"bottom\":326.375,\"height\":26.375,\"left\":205.59375,\"right\":213.34375,\"top\":300,\"width\":7.75},{\"text\":\"t\",\"id\":\"0001-05\",\"bottom\":326.375,\"height\":26.375,\"left\":213.34375,\"right\":221.71875,\"top\":300,\"width\":8.375},{\"text\":\"D\",\"id\":\"0002-00\",\"bottom\":326.375,\"height\":26.375,\"left\":221.71875,\"right\":235,\"top\":300,\"width\":13.28125},{\"text\":\"e\",\"id\":\"0002-01\",\"bottom\":326.375,\"height\":26.375,\"left\":235,\"right\":242.75,\"top\":300,\"width\":7.75},{\"text\":\"s\",\"id\":\"0002-02\",\"bottom\":326.375,\"height\":26.375,\"left\":242.75,\"right\":249.53125,\"top\":300,\"width\":6.78125},{\"text\":\"i\",\"id\":\"0002-03\",\"bottom\":326.375,\"height\":26.375,\"left\":249.53125,\"right\":253.109375,\"top\":300,\"width\":3.578125},{\"text\":\"g\",\"id\":\"0002-04\",\"bottom\":326.375,\"height\":26.375,\"left\":253.109375,\"right\":261.21875,\"top\":300,\"width\":8.109375},{\"text\":\"n\",\"id\":\"0002-05\",\"bottom\":326.375,\"height\":26.375,\"left\":261.21875,\"right\":272.703125,\"top\":300,\"width\":11.484375},{\"text\":\"C\",\"id\":\"0003-00\",\"bottom\":326.375,\"height\":26.375,\"left\":272.703125,\"right\":285.03125,\"top\":300,\"width\":12.328125},{\"text\":\"o\",\"id\":\"0003-01\",\"bottom\":326.375,\"height\":26.375,\"left\":285.03125,\"right\":292.921875,\"top\":300,\"width\":7.890625},{\"text\":\"n\",\"id\":\"0003-02\",\"bottom\":326.375,\"height\":26.375,\"left\":292.921875,\"right\":301.15625,\"top\":300,\"width\":8.234375},{\"text\":\"f\",\"id\":\"0003-03\",\"bottom\":326.375,\"height\":26.375,\"left\":301.15625,\"right\":305.734375,\"top\":300,\"width\":4.578125},{\"text\":\"e\",\"id\":\"0003-04\",\"bottom\":326.375,\"height\":26.375,\"left\":305.734375,\"right\":313.484375,\"top\":300,\"width\":7.75},{\"text\":\"r\",\"id\":\"0003-05\",\"bottom\":326.375,\"height\":26.375,\"left\":313.484375,\"right\":319.046875,\"top\":300,\"width\":5.5625},{\"text\":\"e\",\"id\":\"0003-06\",\"bottom\":326.375,\"height\":26.375,\"left\":319.046875,\"right\":326.796875,\"top\":300,\"width\":7.75},{\"text\":\"n\",\"id\":\"0003-07\",\"bottom\":326.375,\"height\":26.375,\"left\":326.796875,\"right\":335.03125,\"top\":300,\"width\":8.234375},{\"text\":\"c\",\"id\":\"0003-08\",\"bottom\":326.375,\"height\":26.375,\"left\":335.03125,\"right\":341.8125,\"top\":300,\"width\":6.78125},{\"text\":\"e\",\"id\":\"0003-09\",\"bottom\":326.375,\"height\":26.375,\"left\":341.8125,\"right\":352.8125,\"top\":300,\"width\":11},{\"text\":\"M\",\"id\":\"0004-00\",\"bottom\":326.375,\"height\":26.375,\"left\":352.8125,\"right\":367.03125,\"top\":300,\"width\":14.21875},{\"text\":\"a\",\"id\":\"0004-01\",\"bottom\":326.375,\"height\":26.375,\"left\":367.03125,\"right\":374.84375,\"top\":300,\"width\":7.8125},{\"text\":\"r\",\"id\":\"0004-02\",\"bottom\":326.375,\"height\":26.375,\"left\":374.84375,\"right\":380.40625,\"top\":300,\"width\":5.5625},{\"text\":\"c\",\"id\":\"0004-03\",\"bottom\":326.375,\"height\":26.375,\"left\":380.40625,\"right\":387.1875,\"top\":300,\"width\":6.78125},{\"text\":\"h\",\"id\":\"0004-04\",\"bottom\":326.375,\"height\":26.375,\"left\":387.1875,\"right\":398.671875,\"top\":300,\"width\":11.484375},{\"text\":\"2\",\"id\":\"0005-00\",\"bottom\":326.375,\"height\":26.375,\"left\":398.671875,\"right\":410.1875,\"top\":300,\"width\":11.515625},{\"text\":\"5\",\"id\":\"0005-01\",\"bottom\":326.375,\"height\":26.375,\"left\":410.1875,\"right\":418.453125,\"top\":300,\"width\":8.265625},{\"text\":\"-\",\"id\":\"0005-02\",\"bottom\":326.375,\"height\":26.375,\"left\":418.453125,\"right\":424.359375,\"top\":300,\"width\":5.90625},{\"text\":\"2\",\"id\":\"0005-03\",\"bottom\":326.375,\"height\":26.375,\"left\":424.359375,\"right\":432.625,\"top\":300,\"width\":8.265625},{\"text\":\"6\",\"id\":\"0005-04\",\"bottom\":326.375,\"height\":26.375,\"left\":432.625,\"right\":440.890625,\"top\":300,\"width\":8.265625},{\"text\":\",\",\"id\":\"0005-05\",\"bottom\":326.375,\"height\":26.375,\"left\":440.890625,\"right\":448.875,\"top\":300,\"width\":7.984375},{\"text\":\"2\",\"id\":\"0006-00\",\"bottom\":326.375,\"height\":26.375,\"left\":448.875,\"right\":460.390625,\"top\":300,\"width\":11.515625},{\"text\":\"0\",\"id\":\"0006-01\",\"bottom\":326.375,\"height\":26.375,\"left\":460.390625,\"right\":468.65625,\"top\":300,\"width\":8.265625},{\"text\":\"0\",\"id\":\"0006-02\",\"bottom\":326.375,\"height\":26.375,\"left\":468.65625,\"right\":476.921875,\"top\":300,\"width\":8.265625},{\"text\":\"2\",\"id\":\"0006-03\",\"bottom\":326.375,\"height\":26.375,\"left\":476.921875,\"right\":485.1875,\"top\":300,\"width\":8.265625},{\"text\":\",\",\"id\":\"0006-04\",\"bottom\":326.375,\"height\":26.375,\"left\":485.1875,\"right\":493.171875,\"top\":300,\"width\":7.984375},{\"text\":\"A\",\"id\":\"0007-00\",\"bottom\":326.375,\"height\":26.375,\"left\":493.171875,\"right\":505.3125,\"top\":300,\"width\":12.140625},{\"text\":\"t\",\"id\":\"0007-01\",\"bottom\":326.375,\"height\":26.375,\"left\":505.3125,\"right\":510.4375,\"top\":300,\"width\":5.125},{\"text\":\"l\",\"id\":\"0007-02\",\"bottom\":326.375,\"height\":26.375,\"left\":510.4375,\"right\":514.015625,\"top\":300,\"width\":3.578125},{\"text\":\"a\",\"id\":\"0007-03\",\"bottom\":326.375,\"height\":26.375,\"left\":514.015625,\"right\":521.828125,\"top\":300,\"width\":7.8125},{\"text\":\"n\",\"id\":\"0007-04\",\"bottom\":326.375,\"height\":26.375,\"left\":521.828125,\"right\":530.0625,\"top\":300,\"width\":8.234375},{\"text\":\"t\",\"id\":\"0007-05\",\"bottom\":326.375,\"height\":26.375,\"left\":530.0625,\"right\":535.1875,\"top\":300,\"width\":5.125},{\"text\":\"a\",\"id\":\"0007-06\",\"bottom\":326.375,\"height\":26.375,\"left\":535.1875,\"right\":543,\"top\":300,\"width\":7.8125},{\"text\":\",\",\"id\":\"0007-07\",\"bottom\":326.375,\"height\":26.375,\"left\":543,\"right\":550.984375,\"top\":300,\"width\":7.984375},{\"text\":\"G\",\"id\":\"0008-00\",\"bottom\":326.375,\"height\":26.375,\"left\":550.984375,\"right\":564.328125,\"top\":300,\"width\":13.34375},{\"text\":\"e\",\"id\":\"0008-01\",\"bottom\":326.375,\"height\":26.375,\"left\":564.328125,\"right\":572.078125,\"top\":300,\"width\":7.75},{\"text\":\"o\",\"id\":\"0008-02\",\"bottom\":326.375,\"height\":26.375,\"left\":572.078125,\"right\":579.96875,\"top\":300,\"width\":7.890625},{\"text\":\"r\",\"id\":\"0008-03\",\"bottom\":326.375,\"height\":26.375,\"left\":579.96875,\"right\":585.53125,\"top\":300,\"width\":5.5625},{\"text\":\"g\",\"id\":\"0008-04\",\"bottom\":326.375,\"height\":26.375,\"left\":585.53125,\"right\":593.640625,\"top\":300,\"width\":8.109375},{\"text\":\"i\",\"id\":\"0008-05\",\"bottom\":326.375,\"height\":26.375,\"left\":593.640625,\"right\":597.21875,\"top\":300,\"width\":3.578125},{\"text\":\"a\",\"id\":\"0008-06\",\"bottom\":326.375,\"height\":26.375,\"left\":597.21875,\"right\":608.28125,\"top\":300,\"width\":11.0625}],\"timestamp\":1449754157774,\"screen_id\":\"0114_MAI0813\"}'"
      ]
     },
     "execution_count": 64,
     "metadata": {},
     "output_type": "execute_result"
    }
   ],
   "source": [
    "data.keys()[0]"
   ]
  },
  {
   "cell_type": "code",
   "execution_count": null,
   "metadata": {
    "collapsed": true
   },
   "outputs": [],
   "source": []
  }
 ],
 "metadata": {
  "kernelspec": {
   "display_name": "Python 2",
   "language": "python",
   "name": "python2"
  },
  "language_info": {
   "codemirror_mode": {
    "name": "ipython",
    "version": 2
   },
   "file_extension": ".py",
   "mimetype": "text/x-python",
   "name": "python",
   "nbconvert_exporter": "python",
   "pygments_lexer": "ipython2",
   "version": "2.7.3"
  }
 },
 "nbformat": 4,
 "nbformat_minor": 0
}
